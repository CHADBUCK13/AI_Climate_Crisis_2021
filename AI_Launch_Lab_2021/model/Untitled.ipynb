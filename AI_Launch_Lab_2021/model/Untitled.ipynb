{
 "cells": [
  {
   "cell_type": "markdown",
   "metadata": {},
   "source": [
    "# Test 2"
   ]
  },
  {
   "cell_type": "code",
   "execution_count": 1,
   "metadata": {},
   "outputs": [],
   "source": [
    "import pandas as pd"
   ]
  },
  {
   "cell_type": "code",
   "execution_count": 2,
   "metadata": {},
   "outputs": [
    {
     "name": "stdout",
     "output_type": "stream",
     "text": [
      "Untitled.ipynb test_1.ipynb\n"
     ]
    }
   ],
   "source": [
    "!ls"
   ]
  },
  {
   "cell_type": "code",
   "execution_count": 9,
   "metadata": {},
   "outputs": [],
   "source": [
    "dtf = pd.read_csv('../data_processed/collatedComplex.csv')"
   ]
  },
  {
   "cell_type": "code",
   "execution_count": 10,
   "metadata": {},
   "outputs": [
    {
     "data": {
      "text/html": [
       "<div>\n",
       "<style scoped>\n",
       "    .dataframe tbody tr th:only-of-type {\n",
       "        vertical-align: middle;\n",
       "    }\n",
       "\n",
       "    .dataframe tbody tr th {\n",
       "        vertical-align: top;\n",
       "    }\n",
       "\n",
       "    .dataframe thead th {\n",
       "        text-align: right;\n",
       "    }\n",
       "</style>\n",
       "<table border=\"1\" class=\"dataframe\">\n",
       "  <thead>\n",
       "    <tr style=\"text-align: right;\">\n",
       "      <th></th>\n",
       "      <th>PARAMETER</th>\n",
       "      <th>YEAR</th>\n",
       "      <th>STATE</th>\n",
       "      <th>NUMCOL</th>\n",
       "      <th>LBPERCOL</th>\n",
       "      <th>TOTALLB</th>\n",
       "      <th>PRICEPERLB</th>\n",
       "      <th>TOTALPRICE</th>\n",
       "      <th>JAN</th>\n",
       "      <th>FEB</th>\n",
       "      <th>...</th>\n",
       "      <th>APR</th>\n",
       "      <th>MAY</th>\n",
       "      <th>JUN</th>\n",
       "      <th>JUL</th>\n",
       "      <th>AUG</th>\n",
       "      <th>SEP</th>\n",
       "      <th>OCT</th>\n",
       "      <th>NOV</th>\n",
       "      <th>DEC</th>\n",
       "      <th>ANN</th>\n",
       "    </tr>\n",
       "  </thead>\n",
       "  <tbody>\n",
       "    <tr>\n",
       "      <th>0</th>\n",
       "      <td>ALLSKY_TOA_SW_DWN</td>\n",
       "      <td>2019</td>\n",
       "      <td>ALABAMA</td>\n",
       "      <td>7000</td>\n",
       "      <td>42</td>\n",
       "      <td>294000</td>\n",
       "      <td>3.20068</td>\n",
       "      <td>941000</td>\n",
       "      <td>19.35</td>\n",
       "      <td>24.21</td>\n",
       "      <td>...</td>\n",
       "      <td>36.16</td>\n",
       "      <td>39.95</td>\n",
       "      <td>41.35</td>\n",
       "      <td>40.50</td>\n",
       "      <td>37.32</td>\n",
       "      <td>32.41</td>\n",
       "      <td>26.12</td>\n",
       "      <td>20.58</td>\n",
       "      <td>17.82</td>\n",
       "      <td>30.31</td>\n",
       "    </tr>\n",
       "    <tr>\n",
       "      <th>1</th>\n",
       "      <td>ALLSKY_SFC_SW_DWN</td>\n",
       "      <td>2019</td>\n",
       "      <td>ALABAMA</td>\n",
       "      <td>7000</td>\n",
       "      <td>42</td>\n",
       "      <td>294000</td>\n",
       "      <td>3.20068</td>\n",
       "      <td>941000</td>\n",
       "      <td>8.91</td>\n",
       "      <td>9.21</td>\n",
       "      <td>...</td>\n",
       "      <td>19.85</td>\n",
       "      <td>23.37</td>\n",
       "      <td>21.39</td>\n",
       "      <td>20.32</td>\n",
       "      <td>20.60</td>\n",
       "      <td>20.48</td>\n",
       "      <td>11.47</td>\n",
       "      <td>11.29</td>\n",
       "      <td>7.86</td>\n",
       "      <td>15.77</td>\n",
       "    </tr>\n",
       "    <tr>\n",
       "      <th>2</th>\n",
       "      <td>PRECTOT</td>\n",
       "      <td>2019</td>\n",
       "      <td>ALABAMA</td>\n",
       "      <td>7000</td>\n",
       "      <td>42</td>\n",
       "      <td>294000</td>\n",
       "      <td>3.20068</td>\n",
       "      <td>941000</td>\n",
       "      <td>130.80</td>\n",
       "      <td>178.20</td>\n",
       "      <td>...</td>\n",
       "      <td>131.10</td>\n",
       "      <td>74.10</td>\n",
       "      <td>126.00</td>\n",
       "      <td>69.60</td>\n",
       "      <td>85.50</td>\n",
       "      <td>9.00</td>\n",
       "      <td>131.10</td>\n",
       "      <td>85.80</td>\n",
       "      <td>134.10</td>\n",
       "      <td>101.40</td>\n",
       "    </tr>\n",
       "  </tbody>\n",
       "</table>\n",
       "<p>3 rows × 21 columns</p>\n",
       "</div>"
      ],
      "text/plain": [
       "           PARAMETER  YEAR    STATE  NUMCOL  LBPERCOL  TOTALLB  PRICEPERLB  \\\n",
       "0  ALLSKY_TOA_SW_DWN  2019  ALABAMA    7000        42   294000     3.20068   \n",
       "1  ALLSKY_SFC_SW_DWN  2019  ALABAMA    7000        42   294000     3.20068   \n",
       "2            PRECTOT  2019  ALABAMA    7000        42   294000     3.20068   \n",
       "\n",
       "   TOTALPRICE     JAN     FEB  ...     APR    MAY     JUN    JUL    AUG  \\\n",
       "0      941000   19.35   24.21  ...   36.16  39.95   41.35  40.50  37.32   \n",
       "1      941000    8.91    9.21  ...   19.85  23.37   21.39  20.32  20.60   \n",
       "2      941000  130.80  178.20  ...  131.10  74.10  126.00  69.60  85.50   \n",
       "\n",
       "     SEP     OCT    NOV     DEC     ANN  \n",
       "0  32.41   26.12  20.58   17.82   30.31  \n",
       "1  20.48   11.47  11.29    7.86   15.77  \n",
       "2   9.00  131.10  85.80  134.10  101.40  \n",
       "\n",
       "[3 rows x 21 columns]"
      ]
     },
     "execution_count": 10,
     "metadata": {},
     "output_type": "execute_result"
    }
   ],
   "source": [
    "dtf.head(3)"
   ]
  },
  {
   "cell_type": "code",
   "execution_count": 11,
   "metadata": {},
   "outputs": [],
   "source": [
    "#using the monthly data [for now we are not using the month directly]\n",
    "dtf_melted = dtf.melt(id_vars=['PARAMETER', 'YEAR', 'STATE'], value_vars=['JAN', 'FEB', 'MAR', 'APR', 'MAY',\n",
    "       'JUN', 'JUL', 'AUG', 'SEP', 'OCT', 'NOV', 'DEC']).rename(columns={'variable':'month'})\n",
    "dtf_trs = pd.pivot_table(dtf_melted, values='value', columns='PARAMETER', index=['YEAR','STATE', 'month']).reset_index(drop=False)"
   ]
  },
  {
   "cell_type": "code",
   "execution_count": 12,
   "metadata": {},
   "outputs": [
    {
     "data": {
      "text/html": [
       "<div>\n",
       "<style scoped>\n",
       "    .dataframe tbody tr th:only-of-type {\n",
       "        vertical-align: middle;\n",
       "    }\n",
       "\n",
       "    .dataframe tbody tr th {\n",
       "        vertical-align: top;\n",
       "    }\n",
       "\n",
       "    .dataframe thead th {\n",
       "        text-align: right;\n",
       "    }\n",
       "</style>\n",
       "<table border=\"1\" class=\"dataframe\">\n",
       "  <thead>\n",
       "    <tr style=\"text-align: right;\">\n",
       "      <th>PARAMETER</th>\n",
       "      <th>YEAR</th>\n",
       "      <th>STATE</th>\n",
       "      <th>month</th>\n",
       "      <th>ALLSKY_SFC_SW_DWN</th>\n",
       "      <th>ALLSKY_TOA_SW_DWN</th>\n",
       "      <th>PRECTOT</th>\n",
       "      <th>RH2M</th>\n",
       "      <th>T2M</th>\n",
       "      <th>WS10M</th>\n",
       "      <th>WS2M</th>\n",
       "    </tr>\n",
       "  </thead>\n",
       "  <tbody>\n",
       "    <tr>\n",
       "      <th>0</th>\n",
       "      <td>1987</td>\n",
       "      <td>ALABAMA</td>\n",
       "      <td>APR</td>\n",
       "      <td>21.79</td>\n",
       "      <td>36.33</td>\n",
       "      <td>25.14</td>\n",
       "      <td>75.83</td>\n",
       "      <td>14.56</td>\n",
       "      <td>2.16</td>\n",
       "      <td>0.30</td>\n",
       "    </tr>\n",
       "    <tr>\n",
       "      <th>1</th>\n",
       "      <td>1987</td>\n",
       "      <td>ALABAMA</td>\n",
       "      <td>AUG</td>\n",
       "      <td>18.39</td>\n",
       "      <td>37.59</td>\n",
       "      <td>68.19</td>\n",
       "      <td>61.85</td>\n",
       "      <td>28.05</td>\n",
       "      <td>1.50</td>\n",
       "      <td>0.22</td>\n",
       "    </tr>\n",
       "    <tr>\n",
       "      <th>2</th>\n",
       "      <td>1987</td>\n",
       "      <td>ALABAMA</td>\n",
       "      <td>DEC</td>\n",
       "      <td>8.56</td>\n",
       "      <td>17.83</td>\n",
       "      <td>108.34</td>\n",
       "      <td>80.11</td>\n",
       "      <td>8.56</td>\n",
       "      <td>2.26</td>\n",
       "      <td>0.27</td>\n",
       "    </tr>\n",
       "  </tbody>\n",
       "</table>\n",
       "</div>"
      ],
      "text/plain": [
       "PARAMETER  YEAR    STATE month  ALLSKY_SFC_SW_DWN  ALLSKY_TOA_SW_DWN  PRECTOT  \\\n",
       "0          1987  ALABAMA   APR              21.79              36.33    25.14   \n",
       "1          1987  ALABAMA   AUG              18.39              37.59    68.19   \n",
       "2          1987  ALABAMA   DEC               8.56              17.83   108.34   \n",
       "\n",
       "PARAMETER   RH2M    T2M  WS10M  WS2M  \n",
       "0          75.83  14.56   2.16  0.30  \n",
       "1          61.85  28.05   1.50  0.22  \n",
       "2          80.11   8.56   2.26  0.27  "
      ]
     },
     "execution_count": 12,
     "metadata": {},
     "output_type": "execute_result"
    }
   ],
   "source": [
    "dtf_trs.head(3)"
   ]
  },
  {
   "cell_type": "code",
   "execution_count": 8,
   "metadata": {},
   "outputs": [
    {
     "data": {
      "text/plain": [
       "(16896, 10)"
      ]
     },
     "execution_count": 8,
     "metadata": {},
     "output_type": "execute_result"
    }
   ],
   "source": [
    "dtf_trs.shape"
   ]
  },
  {
   "cell_type": "code",
   "execution_count": null,
   "metadata": {},
   "outputs": [],
   "source": [
    "model_rf = RandomForestRegressor(random_state=0)"
   ]
  }
 ],
 "metadata": {
  "kernelspec": {
   "display_name": "Python 3",
   "language": "python",
   "name": "python3"
  },
  "language_info": {
   "codemirror_mode": {
    "name": "ipython",
    "version": 3
   },
   "file_extension": ".py",
   "mimetype": "text/x-python",
   "name": "python",
   "nbconvert_exporter": "python",
   "pygments_lexer": "ipython3",
   "version": "3.7.4"
  }
 },
 "nbformat": 4,
 "nbformat_minor": 4
}
